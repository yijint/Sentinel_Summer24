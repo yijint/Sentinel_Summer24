{
 "cells": [
  {
   "cell_type": "markdown",
   "source": [
    "# Preprocessing LILA datasets\n",
    "\n",
    "Use this notebook to pre-process LILA datasets, which includes the following steps:\n",
    "\n",
    "0. ***Manual inputs***: path to metadata (needed for step 2), data (needed for step 3, 4, 5), and LILA species mapping (needed for step 6)\n",
    "1. Set up \n",
    "2. Extract metadata from COCO file \n",
    "3. Downsize images\n",
    "4. Run megadetector and RDE\n",
    "5. ***Manual RDE***\n",
    "6. Post-RDE processing \n",
    "7. Converting filtered bounding boxes into database-compatible format\n",
    "8. Preparing detections for data upload\n",
    "9. Data upload\n",
    "\n",
    "***Steps 0 and 5 are the only ones requiring manual actions.***\n",
    "\n",
    "To run this notebook, set up the following environment:\n",
    "```\n",
    "conda create -n megadetector python=3.11 pip -y\n",
    "conda activate megadetector\n",
    "pip3 install torch torchvision torchaudio --index-url https://download.pytorch.org/whl/cu118\n",
    "pip3 install megadetector\n",
    "pip3 install pillow\n",
    "pip3 install uuid\n",
    "pip3 install sqlalchemy\n",
    "```"
   ],
   "metadata": {}
  },
  {
   "cell_type": "markdown",
   "source": [
    "## 0. Manual inputs\n",
    "Enter the path to metadata and data."
   ],
   "metadata": {}
  },
  {
   "cell_type": "code",
   "execution_count": 11,
   "source": [
    "metadata_path = '/home/garage/Documents/jin-summer24/Sentinel_Summer24/data/nz_data/trail_camera_images_of_new_zealand_animals_1.00.json'\n",
    "data_path = '/home/garage/Documents/jin-summer24/Sentinel_Summer24/data/nz_data'\n",
    "species_mapping_path = '/home/garage/Documents/jin-summer24/Sentinel_Summer24/data/nz_data/lila-taxonomy-mapping_release.csv'"
   ],
   "outputs": [],
   "metadata": {}
  },
  {
   "cell_type": "markdown",
   "source": [
    "## 1. Set up\n",
    "Import packages"
   ],
   "metadata": {}
  },
  {
   "cell_type": "code",
   "execution_count": 12,
   "source": [
    "from glob import glob \n",
    "import json\n",
    "import pandas as pd\n",
    "import time\n",
    "from datetime import datetime\n",
    "import PIL.Image\n",
    "from megadetector.visualization.visualization_utils import resize_image_folder \n",
    "from pipeline_utils import mdv5a_and_rde, post_rde, upload_db, read_db\n",
    "from tqdm import tqdm\n",
    "import uuid"
   ],
   "outputs": [],
   "metadata": {}
  },
  {
   "cell_type": "markdown",
   "source": [
    "## 2. Extract metadata from COCO file (requires `metadata_path`)\n",
    "\n",
    "Extract relevant metadata for each image: filename, species, location, datetime, and a unique id (`uuid`)."
   ],
   "metadata": {}
  },
  {
   "cell_type": "code",
   "execution_count": 13,
   "source": [
    "# load metadata (based on the format from NZ trail cams dataset)\n",
    "with open(metadata_path) as json_file:\n",
    "    metadata = json.load(json_file)\n",
    "metadata_df = pd.DataFrame(metadata['images'])[['file_name','species','location','datetime']]"
   ],
   "outputs": [],
   "metadata": {}
  },
  {
   "cell_type": "code",
   "execution_count": 14,
   "source": [
    "# gather all image file paths we care about and retrieve their unique image identifier \n",
    "image_extensions = [\n",
    "    '**/*.png', '**/*.PNG', '**/*.jpg', '**/*.JPG', '**/*.jpeg', '**/*.JPEG',\n",
    "    '**/*.gif', '**/*.GIF', '**/*.bmp', '**/*.BMP', '**/*.tiff', '**/*.TIFF',\n",
    "    '**/*.webp', '**/*.WEBP'\n",
    "]\n",
    "image_files = []\n",
    "for ext in image_extensions:\n",
    "    image_files.extend(glob(f\"{data_path}/{ext}\", recursive=True))\n",
    "image_files = set(map(os.path.basename, image_files))"
   ],
   "outputs": [],
   "metadata": {}
  },
  {
   "cell_type": "code",
   "execution_count": 15,
   "source": [
    "# filter metadata to only contain images we care about\n",
    "%time filenames = metadata_df['file_name'].str.split('/').str[-1]\n",
    "include_image = [True if fn in image_files else False for fn in filenames]\n",
    "metadata_df = metadata_df.loc[include_image].reset_index(drop=True)"
   ],
   "outputs": [
    {
     "output_type": "stream",
     "name": "stdout",
     "text": [
      "CPU times: user 5.14 s, sys: 215 ms, total: 5.36 s\n",
      "Wall time: 5.37 s\n"
     ]
    }
   ],
   "metadata": {}
  },
  {
   "cell_type": "code",
   "execution_count": 16,
   "source": [
    "# covert datetime string into datetime object, and extract the value from EXIF data where necessary \n",
    "EXIF_extracted = 0\n",
    "tic = time.time()\n",
    "for row_idx, dt in enumerate(metadata_df['datetime']):\n",
    "    if type(dt) == type(None): # If datetime is not available, extract from EXIF data.\n",
    "        EXIF_extracted += 1 \n",
    "        DT_TAG = 306 # tag number for DateTime in exif object \n",
    "        NZ_EXIF_DT_FORMAT = \"%Y:%m:%d %H:%M:%S\"\n",
    "        exif_dt = PIL.Image.open(f'{data_path}/{metadata_df[\"file_name\"][row_idx]}')._getexif()[DT_TAG]\n",
    "        metadata_df.loc[row_idx, 'datetime'] = datetime.strptime(exif_dt, NZ_EXIF_DT_FORMAT)\n",
    "    else: \n",
    "        MD_DT_FORMAT = \"%Y-%m-%d %H:%M:%S\"\n",
    "        metadata_df.loc[row_idx, 'datetime'] = datetime.strptime(dt, MD_DT_FORMAT)\n",
    "toc = time.time()\n",
    "print(f\"Time taken to retrieve all locations, datetime, and species for {len(metadata_df)} images from metadata and extract EXIF data for {EXIF_extracted} images: {(toc-tic)} seconds\")"
   ],
   "outputs": [
    {
     "output_type": "stream",
     "name": "stdout",
     "text": [
      "Time taken to retrieve all locations, datetime, and species for 38 images from metadata and extract EXIF data for 0 images: 0.002527475357055664 seconds\n"
     ]
    }
   ],
   "metadata": {}
  },
  {
   "cell_type": "code",
   "execution_count": 17,
   "source": [
    "# check metadata\n",
    "metadata_df.head(2)"
   ],
   "outputs": [
    {
     "output_type": "execute_result",
     "data": {
      "text/plain": [
       "                                           file_name      species  location  \\\n",
       "0  ACC/banded_rail/0067A52A-FB22-4CB4-B54A-1894E7...  banded_rail  ACC_T006   \n",
       "1  ACC/banded_rail/0331C7C7-21BA-4198-8811-248F84...  banded_rail  ACC_T006   \n",
       "\n",
       "              datetime  \n",
       "0  2023-06-01 09:16:50  \n",
       "1  2023-05-15 13:12:07  "
      ],
      "text/html": [
       "<div>\n",
       "<style scoped>\n",
       "    .dataframe tbody tr th:only-of-type {\n",
       "        vertical-align: middle;\n",
       "    }\n",
       "\n",
       "    .dataframe tbody tr th {\n",
       "        vertical-align: top;\n",
       "    }\n",
       "\n",
       "    .dataframe thead th {\n",
       "        text-align: right;\n",
       "    }\n",
       "</style>\n",
       "<table border=\"1\" class=\"dataframe\">\n",
       "  <thead>\n",
       "    <tr style=\"text-align: right;\">\n",
       "      <th></th>\n",
       "      <th>file_name</th>\n",
       "      <th>species</th>\n",
       "      <th>location</th>\n",
       "      <th>datetime</th>\n",
       "    </tr>\n",
       "  </thead>\n",
       "  <tbody>\n",
       "    <tr>\n",
       "      <th>0</th>\n",
       "      <td>ACC/banded_rail/0067A52A-FB22-4CB4-B54A-1894E7...</td>\n",
       "      <td>banded_rail</td>\n",
       "      <td>ACC_T006</td>\n",
       "      <td>2023-06-01 09:16:50</td>\n",
       "    </tr>\n",
       "    <tr>\n",
       "      <th>1</th>\n",
       "      <td>ACC/banded_rail/0331C7C7-21BA-4198-8811-248F84...</td>\n",
       "      <td>banded_rail</td>\n",
       "      <td>ACC_T006</td>\n",
       "      <td>2023-05-15 13:12:07</td>\n",
       "    </tr>\n",
       "  </tbody>\n",
       "</table>\n",
       "</div>"
      ]
     },
     "metadata": {},
     "execution_count": 17
    }
   ],
   "metadata": {}
  },
  {
   "cell_type": "markdown",
   "source": [
    "## 3. Downsize images (requires `data_path`)\n",
    "Downsize images to at most 1600px wide (assuming most camera trap images have a larger width than height) to improve the latency of labelme further down the pipeline."
   ],
   "metadata": {}
  },
  {
   "cell_type": "code",
   "execution_count": 18,
   "source": [
    "downsized_data_path = f\"{os.getcwd()}/downsized_data\" # relative from work directory \n",
    "if not os.path.exists(downsized_data_path):\n",
    "    os.mkdir(downsized_data_path)\n",
    "    # resize a folder of images to a new folder on multiple threads/processes.\n",
    "    %time _ = resize_image_folder(input_folder=data_path, output_folder=downsized_data_path, target_width=1600, target_height=-1, no_enlarge_width=True, verbose=False)"
   ],
   "outputs": [],
   "metadata": {}
  },
  {
   "cell_type": "markdown",
   "source": [
    "## 4. Run megadetector and RDE\n",
    "The following cell runs MDv5a detection on the dataset at `downsized_data_path` and launches a browser window displaying the images and their detections. Then, it will run repeated detection elimination by first detecting the suspicious repeated detections. \n",
    "\n",
    "***IMPORTANT: Finally, it will launch a folder of images for you to browse through the detected suspicious repeated detections. Manually go through each image file in the folder and delete the valid detections. Then, close the file explorer and continuing running Section 6 (post-RDE processing). The undeleted files will be treated as suspicious detections and all the associated detections will be filtered out before further data processing.***"
   ],
   "metadata": {}
  },
  {
   "cell_type": "code",
   "execution_count": 19,
   "source": [
    "outputs = mdv5a_and_rde(input_path = downsized_data_path, \n",
    "                        job_name = 'nz-test', \n",
    "                        job_date = '27jun2024',\n",
    "                        postprocessing_base = 'nz_postprocessing')"
   ],
   "outputs": [
    {
     "output_type": "stream",
     "name": "stdout",
     "text": [
      "No speed estimate available for NVIDIA GeForce RTX 2070 SUPER\n",
      "Loaded 38 image filenames from .json list file nz_postprocessing/nz-test/nz-test-27jun2024-v5a.0.0/chunk000.json\n",
      "Downloading model MDV5A\n",
      "Bypassing download of already-downloaded file md_v5a.0.0.pt\n",
      "PyTorch reports 1 available CUDA devices\n",
      "GPU available: True\n"
     ]
    },
    {
     "output_type": "stream",
     "name": "stderr",
     "text": [
      "Fusing layers... \n",
      "Fusing layers... \n",
      "Model summary: 733 layers, 140054656 parameters, 0 gradients, 208.8 GFLOPs\n",
      "Model summary: 733 layers, 140054656 parameters, 0 gradients, 208.8 GFLOPs\n"
     ]
    },
    {
     "output_type": "stream",
     "name": "stdout",
     "text": [
      "Sending model to GPU\n",
      "Loaded model in 0.42 seconds\n",
      "Loaded model in 0.42 seconds\n"
     ]
    },
    {
     "output_type": "stream",
     "name": "stderr",
     "text": [
      "100%|██████████| 38/38 [00:03<00:00, 10.65it/s]\n"
     ]
    },
    {
     "output_type": "stream",
     "name": "stdout",
     "text": [
      "Output file saved at nz_postprocessing/nz-test/nz-test-27jun2024-v5a.0.0/chunk000_results.json\n"
     ]
    },
    {
     "output_type": "stream",
     "name": "stderr",
     "text": [
      "100%|██████████| 1/1 [00:00<00:00, 15709.00it/s]\n",
      "100%|██████████| 1/1 [00:00<00:00, 1983.12it/s]\n",
      "100%|██████████| 1/1 [00:00<00:00, 17549.39it/s]\n"
     ]
    },
    {
     "output_type": "stream",
     "name": "stdout",
     "text": [
      "Loading results from nz_postprocessing/nz-test/nz-test-27jun2024-v5a.0.0/combined_api_outputs/nz-test-27jun2024-v5a.0.0_detections.json\n",
      "Converting results to dataframe\n",
      "Finished loading MegaDetector results for 38 images from nz_postprocessing/nz-test/nz-test-27jun2024-v5a.0.0/combined_api_outputs/nz-test-27jun2024-v5a.0.0_detections.json\n"
     ]
    },
    {
     "output_type": "stream",
     "name": "stderr",
     "text": [
      "100%|██████████| 38/38 [00:00<00:00, 16434.68it/s]"
     ]
    },
    {
     "output_type": "stream",
     "name": "stdout",
     "text": [
      "Finished loading and preprocessing 38 rows from detector output, predicted 36 positives.\n",
      "...and 0 almost-positives\n"
     ]
    },
    {
     "output_type": "stream",
     "name": "stderr",
     "text": [
      "\n"
     ]
    },
    {
     "output_type": "stream",
     "name": "stdout",
     "text": [
      "Rendering images with 30 processes\n"
     ]
    },
    {
     "output_type": "stream",
     "name": "stderr",
     "text": [
      "100%|██████████| 38/38 [00:00<00:00, 262.80it/s]"
     ]
    },
    {
     "output_type": "stream",
     "name": "stdout",
     "text": [
      "Rendered 38 images (of 38) in 2.15 seconds (0.06 seconds per image)\n",
      "Finished writing html to nz_postprocessing/nz-test/nz-test-27jun2024-v5a.0.0/preview/nz-test-27jun2024-v5a.0.0_0.200/index.html\n"
     ]
    },
    {
     "output_type": "stream",
     "name": "stderr",
     "text": [
      "\n"
     ]
    },
    {
     "output_type": "stream",
     "name": "stdout",
     "text": [
      "Loading results from nz_postprocessing/nz-test/nz-test-27jun2024-v5a.0.0/combined_api_outputs/nz-test-27jun2024-v5a.0.0_detections.json\n",
      "Converting results to dataframe\n",
      "Finished loading MegaDetector results for 38 images from nz_postprocessing/nz-test/nz-test-27jun2024-v5a.0.0/combined_api_outputs/nz-test-27jun2024-v5a.0.0_detections.json\n",
      "Separating images into locations...\n"
     ]
    },
    {
     "output_type": "stream",
     "name": "stderr",
     "text": [
      "100%|██████████| 38/38 [00:00<00:00, 12907.64it/s]"
     ]
    },
    {
     "output_type": "stream",
     "name": "stdout",
     "text": [
      "Custom dir name function made 0 replacements (of 38 images)\n",
      "Finished separating 38 files into 2 locations\n",
      "Finding similar detections...\n",
      "Pool of 30 requested, but only 2 folders available, reducing pool to 2\n"
     ]
    },
    {
     "output_type": "stream",
     "name": "stderr",
     "text": [
      "\n"
     ]
    },
    {
     "output_type": "stream",
     "name": "stdout",
     "text": [
      "Starting comparison pool with 2 processes\n"
     ]
    },
    {
     "output_type": "stream",
     "name": "stderr",
     "text": [
      "2it [00:00, 374.47it/s]\n"
     ]
    },
    {
     "output_type": "stream",
     "name": "stdout",
     "text": [
      "\n",
      "Finished looking for similar detections\n",
      "Marking repeat detections...\n",
      "Found 0 suspicious detections in directory 0 (ACC/banded_rail)\n",
      "Found 0 suspicious detections in directory 1 (ACC/morepork)\n",
      "Finished marking repeat detections\n",
      "Found 0 unique detections on 0 images that are suspicious\n",
      "Updating output table\n",
      "Finished updating detection table\n",
      "Changed 0 detections that impacted 0 maxPs (0 to negative) (0 across confidence threshold)\n",
      "Creating filtering folder...\n"
     ]
    },
    {
     "output_type": "stream",
     "name": "stderr",
     "text": [
      "100%|██████████| 2/2 [00:00<00:00, 47127.01it/s]\n",
      "100%|██████████| 2/2 [00:00<00:00, 29127.11it/s]\n"
     ]
    },
    {
     "output_type": "stream",
     "name": "stdout",
     "text": [
      "Starting rendering pool with 30 processes\n"
     ]
    },
    {
     "output_type": "stream",
     "name": "stderr",
     "text": [
      "0it [00:00, ?it/s]"
     ]
    },
    {
     "output_type": "stream",
     "name": "stdout",
     "text": [
      "Done\n"
     ]
    },
    {
     "output_type": "stream",
     "name": "stderr",
     "text": [
      "\n"
     ]
    }
   ],
   "metadata": {}
  },
  {
   "cell_type": "markdown",
   "source": [
    "## 5. Manual RDE\n",
    "After running the cell above, a manual RDE step is required before running the code in section 6 (post-RDE processing). \n",
    "\n",
    "***IMPORTANT: The cell above (section 4) should launch a folder of images for you to browse through the detected suspicious repeated detections. Manually go through each image file in the folder and delete the valid detections. Then, close the file explorer and continuing running Section 6 (post-RDE processing). The undeleted files will be treated as suspicious detections and all the associated detections will be filtered out before further data processing.***"
   ],
   "metadata": {}
  },
  {
   "cell_type": "code",
   "execution_count": 20,
   "source": [
    "# generate an error to stop the code flow here just in case the user selects Run All\n",
    "\n",
    "# if you are here and not sure what to do: \n",
    "# 1. If you have completed the manual RDE step of deleting valid detections from the folder launched in\n",
    "#    section 4, go ahead and run section 6 and beyond. \n",
    "# 2. If you have not, read the instructions above for Manual RDE and delete the valid detections\n",
    "#    accordingly. Then, go ahead and run section 6 and beyond.\n",
    "\n",
    "break"
   ],
   "outputs": [
    {
     "output_type": "error",
     "ename": "SyntaxError",
     "evalue": "'break' outside loop (2669011907.py, line 9)",
     "traceback": [
      "\u001b[0;36m  Cell \u001b[0;32mIn[20], line 9\u001b[0;36m\u001b[0m\n\u001b[0;31m    break\u001b[0m\n\u001b[0m    ^\u001b[0m\n\u001b[0;31mSyntaxError\u001b[0m\u001b[0;31m:\u001b[0m 'break' outside loop\n"
     ]
    }
   ],
   "metadata": {}
  },
  {
   "cell_type": "markdown",
   "source": [
    "## 6. Post-RDE processing \n",
    "The following cell runs MDv5a detection on the dataset at `downsized_data_path` and launches a browser window displaying the images and their detections. "
   ],
   "metadata": {}
  },
  {
   "cell_type": "code",
   "execution_count": 21,
   "source": [
    "combined_api_output_file, rde_string, suspicious_detection_results, default_workers_for_parallel_tasks, parallelization_defaults_to_threads, postprocessing_output_folder, base_task_name = outputs\n",
    "final_md = post_rde(downsized_data_path, combined_api_output_file, rde_string, suspicious_detection_results, \n",
    "                    default_workers_for_parallel_tasks, parallelization_defaults_to_threads, \n",
    "                    postprocessing_output_folder, base_task_name)"
   ],
   "outputs": [
    {
     "output_type": "stream",
     "name": "stdout",
     "text": [
      "Bypassing detection-finding, loading from nz_postprocessing/nz-test/nz-test-27jun2024-v5a.0.0/rde_0.100_0.850_15_0.200_task_0/filtering_2024.07.01.15.26.23/detectionIndex.json\n",
      "Loading results from nz_postprocessing/nz-test/nz-test-27jun2024-v5a.0.0/combined_api_outputs/nz-test-27jun2024-v5a.0.0_detections.json\n",
      "Converting results to dataframe\n",
      "Finished loading MegaDetector results for 38 images from nz_postprocessing/nz-test/nz-test-27jun2024-v5a.0.0/combined_api_outputs/nz-test-27jun2024-v5a.0.0_detections.json\n",
      "Separating images into locations...\n"
     ]
    },
    {
     "output_type": "stream",
     "name": "stderr",
     "text": [
      "100%|██████████| 38/38 [00:00<00:00, 12369.70it/s]\n"
     ]
    },
    {
     "output_type": "stream",
     "name": "stdout",
     "text": [
      "Custom dir name function made 0 replacements (of 38 images)\n",
      "Finished separating 38 files into 2 locations\n",
      "Removed 0 of 0 total detections via manual filtering\n",
      "Updating output table\n",
      "Writing detection results to nz_postprocessing/nz-test/nz-test-27jun2024-v5a.0.0/combined_api_outputs/nz-test-27jun2024-v5a.0.0_detections.filtered_rde_0.100_0.850_15_0.200.json\n",
      "Finished writing detection results to nz_postprocessing/nz-test/nz-test-27jun2024-v5a.0.0/combined_api_outputs/nz-test-27jun2024-v5a.0.0_detections.filtered_rde_0.100_0.850_15_0.200.json\n",
      "Finished updating detection table\n",
      "Changed 0 detections that impacted 0 maxPs (0 to negative) (0 across confidence threshold)\n",
      "Loading results from nz_postprocessing/nz-test/nz-test-27jun2024-v5a.0.0/combined_api_outputs/nz-test-27jun2024-v5a.0.0_detections.filtered_rde_0.100_0.850_15_0.200.json\n",
      "Converting results to dataframe\n",
      "Finished loading MegaDetector results for 38 images from nz_postprocessing/nz-test/nz-test-27jun2024-v5a.0.0/combined_api_outputs/nz-test-27jun2024-v5a.0.0_detections.filtered_rde_0.100_0.850_15_0.200.json\n"
     ]
    },
    {
     "output_type": "stream",
     "name": "stderr",
     "text": [
      "100%|██████████| 38/38 [00:00<00:00, 23735.45it/s]"
     ]
    },
    {
     "output_type": "stream",
     "name": "stdout",
     "text": [
      "Finished loading and preprocessing 38 rows from detector output, predicted 36 positives.\n",
      "...and 0 almost-positives\n"
     ]
    },
    {
     "output_type": "stream",
     "name": "stderr",
     "text": [
      "\n"
     ]
    },
    {
     "output_type": "stream",
     "name": "stdout",
     "text": [
      "Rendering images with 30 processes\n"
     ]
    },
    {
     "output_type": "stream",
     "name": "stderr",
     "text": [
      "100%|██████████| 38/38 [00:00<00:00, 318.29it/s]"
     ]
    },
    {
     "output_type": "stream",
     "name": "stdout",
     "text": [
      "Rendered 38 images (of 38) in 2.14 seconds (0.06 seconds per image)\n",
      "Finished writing html to nz_postprocessing/nz-test/nz-test-27jun2024-v5a.0.0/preview/nz-test-27jun2024-v5a.0.0_rde_0.100_0.850_15_0.200_0.200/index.html\n"
     ]
    },
    {
     "output_type": "stream",
     "name": "stderr",
     "text": [
      "\n"
     ]
    }
   ],
   "metadata": {}
  },
  {
   "cell_type": "markdown",
   "source": [
    "## 7. Converting filtered bounding boxes into database-compatible format"
   ],
   "metadata": {}
  },
  {
   "cell_type": "code",
   "execution_count": 22,
   "source": [
    "# load detections\n",
    "with open(final_md, 'r') as f:\n",
    "    md_data = json.load(f)\n",
    "    print(f\"md_data.keys(): {md_data.keys()}\")\n",
    "\n",
    "# extract the bbox detections for each image and convert them into our database format \n",
    "# the outputs by megadetector is relative coordinates so the downsizing does not matter\n",
    "md_df = pd.DataFrame(md_data['images'])\n",
    "fn, xmin, ymin, xmax, ymax, confidence = [], [], [], [], [], []\n",
    "\n",
    "# set up progress bar counter\n",
    "pbar = tqdm(total=len(md_df))\n",
    "for i in range(len(md_df)):\n",
    "    detections = md_df['detections'][i]\n",
    "    try:\n",
    "        for detection in detections:\n",
    "            fn.append(md_df['file'][i])\n",
    "            if detection['bbox'] is None:\n",
    "                xmin.append(None)\n",
    "                ymin.append(None)\n",
    "                xmax.append(None)\n",
    "                ymax.append(None)\n",
    "                confidence.append(None)\n",
    "            else:\n",
    "                xmin.append(detection['bbox'][0])\n",
    "                ymin.append(detection['bbox'][1])\n",
    "                xmax.append(detection['bbox'][0]+detection['bbox'][2])\n",
    "                ymax.append(detection['bbox'][1]+detection['bbox'][3])\n",
    "                confidence.append(detection['conf'])  \n",
    "    except Exception as e:\n",
    "        print(e)\n",
    "\n",
    "    pbar.update(1)\n",
    "\n",
    "pbar.close()\n",
    "\n",
    "md_df = pd.DataFrame({'file_name': fn, 'voc_xmin': xmin, 'voc_ymin': ymin, 'voc_xmax': xmax, 'voc_ymax': ymax, 'confidence': confidence})\n",
    "md_df['file_name'] = md_df['file_name'].str.replace('\\\\', '/')\n",
    "md_df['image_id'] = md_df['file_name'].str.split('/').str[-1].str.split('.').str[0]\n",
    "\n",
    "# generate unique id for each bbox detection\n",
    "%time uuids = [str(uuid.uuid4()) for i in range(len(md_df))] \n",
    "md_df['bb_id'] = uuids"
   ],
   "outputs": [
    {
     "output_type": "stream",
     "name": "stdout",
     "text": [
      "md_data.keys(): dict_keys(['info', 'detection_categories', 'images'])\n"
     ]
    },
    {
     "output_type": "stream",
     "name": "stderr",
     "text": [
      "100%|██████████| 38/38 [00:00<00:00, 31711.81it/s]"
     ]
    },
    {
     "output_type": "stream",
     "name": "stdout",
     "text": [
      "CPU times: user 406 μs, sys: 193 μs, total: 599 μs\n",
      "Wall time: 407 μs\n"
     ]
    },
    {
     "output_type": "stream",
     "name": "stderr",
     "text": [
      "\n"
     ]
    }
   ],
   "metadata": {}
  },
  {
   "cell_type": "code",
   "execution_count": 23,
   "source": [
    "# check converted data \n",
    "print(f\"There are {len(set(md_df['image_id']))} unique images and {len((md_df['image_id']))} bounding boxes detected.\")\n",
    "md_df.head(2)"
   ],
   "outputs": [
    {
     "output_type": "stream",
     "name": "stdout",
     "text": [
      "There are 38 unique images and 42 bounding boxes detected.\n"
     ]
    },
    {
     "output_type": "execute_result",
     "data": {
      "text/plain": [
       "                                           file_name  voc_xmin  voc_ymin  \\\n",
       "0  ACC/banded_rail/0067A52A-FB22-4CB4-B54A-1894E7...     0.000     0.084   \n",
       "1  ACC/banded_rail/0067A52A-FB22-4CB4-B54A-1894E7...     0.742     0.318   \n",
       "\n",
       "   voc_xmax  voc_ymax  confidence                              image_id  \\\n",
       "0     0.052     0.248       0.015  0067A52A-FB22-4CB4-B54A-1894E7F2B1A5   \n",
       "1     0.966     0.569       0.851  0067A52A-FB22-4CB4-B54A-1894E7F2B1A5   \n",
       "\n",
       "                                  bb_id  \n",
       "0  e270ad1b-dab7-4475-8cbe-6e5582348434  \n",
       "1  f63c8d8f-b1dd-4c1b-9e31-a0368bbce1fe  "
      ],
      "text/html": [
       "<div>\n",
       "<style scoped>\n",
       "    .dataframe tbody tr th:only-of-type {\n",
       "        vertical-align: middle;\n",
       "    }\n",
       "\n",
       "    .dataframe tbody tr th {\n",
       "        vertical-align: top;\n",
       "    }\n",
       "\n",
       "    .dataframe thead th {\n",
       "        text-align: right;\n",
       "    }\n",
       "</style>\n",
       "<table border=\"1\" class=\"dataframe\">\n",
       "  <thead>\n",
       "    <tr style=\"text-align: right;\">\n",
       "      <th></th>\n",
       "      <th>file_name</th>\n",
       "      <th>voc_xmin</th>\n",
       "      <th>voc_ymin</th>\n",
       "      <th>voc_xmax</th>\n",
       "      <th>voc_ymax</th>\n",
       "      <th>confidence</th>\n",
       "      <th>image_id</th>\n",
       "      <th>bb_id</th>\n",
       "    </tr>\n",
       "  </thead>\n",
       "  <tbody>\n",
       "    <tr>\n",
       "      <th>0</th>\n",
       "      <td>ACC/banded_rail/0067A52A-FB22-4CB4-B54A-1894E7...</td>\n",
       "      <td>0.000</td>\n",
       "      <td>0.084</td>\n",
       "      <td>0.052</td>\n",
       "      <td>0.248</td>\n",
       "      <td>0.015</td>\n",
       "      <td>0067A52A-FB22-4CB4-B54A-1894E7F2B1A5</td>\n",
       "      <td>e270ad1b-dab7-4475-8cbe-6e5582348434</td>\n",
       "    </tr>\n",
       "    <tr>\n",
       "      <th>1</th>\n",
       "      <td>ACC/banded_rail/0067A52A-FB22-4CB4-B54A-1894E7...</td>\n",
       "      <td>0.742</td>\n",
       "      <td>0.318</td>\n",
       "      <td>0.966</td>\n",
       "      <td>0.569</td>\n",
       "      <td>0.851</td>\n",
       "      <td>0067A52A-FB22-4CB4-B54A-1894E7F2B1A5</td>\n",
       "      <td>f63c8d8f-b1dd-4c1b-9e31-a0368bbce1fe</td>\n",
       "    </tr>\n",
       "  </tbody>\n",
       "</table>\n",
       "</div>"
      ]
     },
     "metadata": {},
     "execution_count": 23
    }
   ],
   "metadata": {}
  },
  {
   "cell_type": "markdown",
   "source": [
    "## 8. Preparing detections for data ingestion\n",
    "- adding metadata \n",
    "- species mapping \n",
    "- formatting column names "
   ],
   "metadata": {}
  },
  {
   "cell_type": "code",
   "execution_count": 24,
   "source": [
    "# merge megadetector data with metadata \n",
    "df = pd.merge(md_df, metadata_df, on='file_name', how='outer')\n",
    "df = df.rename(columns={'location': 'location_id','species': 'original_label', 'confidence': 'bb_confidence'})"
   ],
   "outputs": [],
   "metadata": {}
  },
  {
   "cell_type": "code",
   "execution_count": 25,
   "source": [
    "# species mapping \n",
    "\n",
    "# load data\n",
    "taxa_df = pd.read_csv(species_mapping_path)\n",
    "length_before_merge = len(df)\n",
    "\n",
    "# extract relevant data \n",
    "# set(taxa_df.dataset_name) # run this to check for dataset name \n",
    "taxa_df = taxa_df[taxa_df['dataset_name'] ==  'Trail Camera Images of New Zealand Animals']\n",
    "taxa_df = taxa_df[['query','kingdom','phylum','class','order','family','genus','species','subspecies']]\n",
    "taxa_df.rename(columns={'query':'original_label'}, inplace=True)\n",
    "\n",
    "# merge taxa info before saving\n",
    "df = pd.merge(df, taxa_df, on='original_label', how='inner')\n",
    "df.reset_index(drop=True, inplace=True)\n",
    "\n",
    "# check merging validity\n",
    "print(f\"Number of rows before and after merging: {length_before_merge} -> {len(df)}\")\n",
    "df.head(2)"
   ],
   "outputs": [
    {
     "output_type": "stream",
     "name": "stdout",
     "text": [
      "Number of rows before and after merging: 42 -> 42\n"
     ]
    },
    {
     "output_type": "execute_result",
     "data": {
      "text/plain": [
       "                                           file_name  voc_xmin  voc_ymin  \\\n",
       "0  ACC/banded_rail/0067A52A-FB22-4CB4-B54A-1894E7...     0.000     0.084   \n",
       "1  ACC/banded_rail/0067A52A-FB22-4CB4-B54A-1894E7...     0.742     0.318   \n",
       "\n",
       "   voc_xmax  voc_ymax  ...       order    family        genus  \\\n",
       "0     0.052     0.248  ...  gruiformes  rallidae  gallirallus   \n",
       "1     0.966     0.569  ...  gruiformes  rallidae  gallirallus   \n",
       "\n",
       "                    species subspecies  \n",
       "0  gallirallus philippensis        NaN  \n",
       "1  gallirallus philippensis        NaN  \n",
       "\n",
       "[2 rows x 19 columns]"
      ],
      "text/html": [
       "<div>\n",
       "<style scoped>\n",
       "    .dataframe tbody tr th:only-of-type {\n",
       "        vertical-align: middle;\n",
       "    }\n",
       "\n",
       "    .dataframe tbody tr th {\n",
       "        vertical-align: top;\n",
       "    }\n",
       "\n",
       "    .dataframe thead th {\n",
       "        text-align: right;\n",
       "    }\n",
       "</style>\n",
       "<table border=\"1\" class=\"dataframe\">\n",
       "  <thead>\n",
       "    <tr style=\"text-align: right;\">\n",
       "      <th></th>\n",
       "      <th>file_name</th>\n",
       "      <th>voc_xmin</th>\n",
       "      <th>voc_ymin</th>\n",
       "      <th>voc_xmax</th>\n",
       "      <th>voc_ymax</th>\n",
       "      <th>...</th>\n",
       "      <th>order</th>\n",
       "      <th>family</th>\n",
       "      <th>genus</th>\n",
       "      <th>species</th>\n",
       "      <th>subspecies</th>\n",
       "    </tr>\n",
       "  </thead>\n",
       "  <tbody>\n",
       "    <tr>\n",
       "      <th>0</th>\n",
       "      <td>ACC/banded_rail/0067A52A-FB22-4CB4-B54A-1894E7...</td>\n",
       "      <td>0.000</td>\n",
       "      <td>0.084</td>\n",
       "      <td>0.052</td>\n",
       "      <td>0.248</td>\n",
       "      <td>...</td>\n",
       "      <td>gruiformes</td>\n",
       "      <td>rallidae</td>\n",
       "      <td>gallirallus</td>\n",
       "      <td>gallirallus philippensis</td>\n",
       "      <td>NaN</td>\n",
       "    </tr>\n",
       "    <tr>\n",
       "      <th>1</th>\n",
       "      <td>ACC/banded_rail/0067A52A-FB22-4CB4-B54A-1894E7...</td>\n",
       "      <td>0.742</td>\n",
       "      <td>0.318</td>\n",
       "      <td>0.966</td>\n",
       "      <td>0.569</td>\n",
       "      <td>...</td>\n",
       "      <td>gruiformes</td>\n",
       "      <td>rallidae</td>\n",
       "      <td>gallirallus</td>\n",
       "      <td>gallirallus philippensis</td>\n",
       "      <td>NaN</td>\n",
       "    </tr>\n",
       "  </tbody>\n",
       "</table>\n",
       "<p>2 rows × 19 columns</p>\n",
       "</div>"
      ]
     },
     "metadata": {},
     "execution_count": 25
    }
   ],
   "metadata": {}
  },
  {
   "cell_type": "code",
   "execution_count": 26,
   "source": [
    "# fill in other metadata \n",
    "\n",
    "# new columns in images_v4 for tracking data reliability \n",
    "# df['species_confirmed'] = False\n",
    "# df['bb_confirmed'] = False\n",
    "# df['wrong_species'] = None\n",
    "\n",
    "# filter out low confidence predictions and keep track of threshold used \n",
    "df['detector_threshold'] = 0.4\n",
    "df = df[df['bb_confidence'] > df['detector_threshold']].reset_index(drop=True)\n",
    "\n",
    "# fill in values\n",
    "df['cloud_path'] = df['file_name']\n",
    "df['gcp_path'] = 'gs://public-datasets-lila/nz-trailcams/' + df['file_name']\n",
    "df['last_updated'] = int(time.time())\n",
    "df['country_code'] = 'NZ' # based on database query\n",
    "df['host_location'] = 'GCP Public'\n",
    "df['camera_trap'] = 1 # whether data is from camera traps \n",
    "df['data_type'] = 'RGB'\n",
    "df['detector_algorithm'] = md_data['info']['detector'] # not yet standardized in images_v3\n",
    "df['bb_confirmed'] = False\n",
    "\n",
    "# missing variables based on dataset columns that exist in images_v3 \n",
    "df['seq_id'] = None\n",
    "df['frame_num'] = None\n",
    "df['sex'] = None\n",
    "df['lifeStage'] = None\n",
    "df['behavior'] = None\n",
    "df['feature'] = None\n",
    "df['color'] = None\n",
    "df['individual_id'] = None\n",
    "df['error_status'] = None\n",
    "df['image_signature'] = None\n",
    "df['loc_index'] = None\n",
    "df['rights_holder'] = None"
   ],
   "outputs": [],
   "metadata": {}
  },
  {
   "cell_type": "code",
   "execution_count": 27,
   "source": [
    "# check data\n",
    "print(df.keys())\n",
    "df.head(2)"
   ],
   "outputs": [
    {
     "output_type": "stream",
     "name": "stdout",
     "text": [
      "Index(['file_name', 'voc_xmin', 'voc_ymin', 'voc_xmax', 'voc_ymax',\n",
      "       'bb_confidence', 'image_id', 'bb_id', 'original_label', 'location_id',\n",
      "       'datetime', 'kingdom', 'phylum', 'class', 'order', 'family', 'genus',\n",
      "       'species', 'subspecies', 'detector_threshold', 'cloud_path', 'gcp_path',\n",
      "       'last_updated', 'country_code', 'host_location', 'camera_trap',\n",
      "       'data_type', 'detector_algorithm', 'bb_confirmed', 'seq_id',\n",
      "       'frame_num', 'sex', 'lifeStage', 'behavior', 'feature', 'color',\n",
      "       'individual_id', 'error_status', 'image_signature', 'loc_index',\n",
      "       'rights_holder'],\n",
      "      dtype='object')\n"
     ]
    },
    {
     "output_type": "execute_result",
     "data": {
      "text/plain": [
       "                                           file_name  voc_xmin  voc_ymin  \\\n",
       "0  ACC/banded_rail/0067A52A-FB22-4CB4-B54A-1894E7...     0.742     0.318   \n",
       "1  ACC/banded_rail/0331C7C7-21BA-4198-8811-248F84...     0.359     0.404   \n",
       "\n",
       "   voc_xmax  voc_ymax  ...  individual_id error_status image_signature  \\\n",
       "0     0.966     0.569  ...           None         None            None   \n",
       "1     0.510     0.837  ...           None         None            None   \n",
       "\n",
       "  loc_index rights_holder  \n",
       "0      None          None  \n",
       "1      None          None  \n",
       "\n",
       "[2 rows x 41 columns]"
      ],
      "text/html": [
       "<div>\n",
       "<style scoped>\n",
       "    .dataframe tbody tr th:only-of-type {\n",
       "        vertical-align: middle;\n",
       "    }\n",
       "\n",
       "    .dataframe tbody tr th {\n",
       "        vertical-align: top;\n",
       "    }\n",
       "\n",
       "    .dataframe thead th {\n",
       "        text-align: right;\n",
       "    }\n",
       "</style>\n",
       "<table border=\"1\" class=\"dataframe\">\n",
       "  <thead>\n",
       "    <tr style=\"text-align: right;\">\n",
       "      <th></th>\n",
       "      <th>file_name</th>\n",
       "      <th>voc_xmin</th>\n",
       "      <th>voc_ymin</th>\n",
       "      <th>voc_xmax</th>\n",
       "      <th>voc_ymax</th>\n",
       "      <th>...</th>\n",
       "      <th>individual_id</th>\n",
       "      <th>error_status</th>\n",
       "      <th>image_signature</th>\n",
       "      <th>loc_index</th>\n",
       "      <th>rights_holder</th>\n",
       "    </tr>\n",
       "  </thead>\n",
       "  <tbody>\n",
       "    <tr>\n",
       "      <th>0</th>\n",
       "      <td>ACC/banded_rail/0067A52A-FB22-4CB4-B54A-1894E7...</td>\n",
       "      <td>0.742</td>\n",
       "      <td>0.318</td>\n",
       "      <td>0.966</td>\n",
       "      <td>0.569</td>\n",
       "      <td>...</td>\n",
       "      <td>None</td>\n",
       "      <td>None</td>\n",
       "      <td>None</td>\n",
       "      <td>None</td>\n",
       "      <td>None</td>\n",
       "    </tr>\n",
       "    <tr>\n",
       "      <th>1</th>\n",
       "      <td>ACC/banded_rail/0331C7C7-21BA-4198-8811-248F84...</td>\n",
       "      <td>0.359</td>\n",
       "      <td>0.404</td>\n",
       "      <td>0.510</td>\n",
       "      <td>0.837</td>\n",
       "      <td>...</td>\n",
       "      <td>None</td>\n",
       "      <td>None</td>\n",
       "      <td>None</td>\n",
       "      <td>None</td>\n",
       "      <td>None</td>\n",
       "    </tr>\n",
       "  </tbody>\n",
       "</table>\n",
       "<p>2 rows × 41 columns</p>\n",
       "</div>"
      ]
     },
     "metadata": {},
     "execution_count": 27
    }
   ],
   "metadata": {}
  },
  {
   "cell_type": "markdown",
   "source": [
    "## 9. Data upload"
   ],
   "metadata": {}
  },
  {
   "cell_type": "code",
   "execution_count": 28,
   "source": [
    "# upload data \n",
    "upload_db(df, 'nz-trailcams-test', 'images_v3')"
   ],
   "outputs": [
    {
     "output_type": "stream",
     "name": "stderr",
     "text": [
      "100%|██████████| 1/1 [00:00<00:00,  2.43it/s]\n"
     ]
    }
   ],
   "metadata": {}
  },
  {
   "cell_type": "code",
   "execution_count": 29,
   "source": [
    "# check uploaded data\n",
    "uploaded_df = read_db('nz-trailcams-test', 'images_v3')\n",
    "print(uploaded_df.keys())\n",
    "uploaded_df.head(2)"
   ],
   "outputs": [
    {
     "output_type": "stream",
     "name": "stdout",
     "text": [
      "Engine Created\n",
      "Index(['index', 'bb_id', 'image_id', 'dataset', 'data_type', 'host_location',\n",
      "       'file_name', 'gcp_path', 'seq_id', 'frame_num', 'camera_trap',\n",
      "       'original_label', 'kingdom', 'class', 'phylum', 'order', 'family',\n",
      "       'genus', 'species', 'subspecies', 'sex', 'lifeStage', 'behavior',\n",
      "       'feature', 'datetime', 'country_code', 'voc_xmin', 'voc_ymin',\n",
      "       'voc_xmax', 'voc_ymax', 'bb_confirmed', 'bb_confidence',\n",
      "       'rights_holder', 'color', 'individual_id', 'last_updated',\n",
      "       'error_status', 'detector_threshold', 'detector_algorithm',\n",
      "       'image_signature', 'cloud_path', 'loc_index', 'location_id'],\n",
      "      dtype='object')\n"
     ]
    },
    {
     "output_type": "execute_result",
     "data": {
      "text/plain": [
       "  index                                 bb_id  \\\n",
       "0  None  21a6ea01-abf4-4dda-bf68-5db776268872   \n",
       "1  None  9a0cd58f-64bc-4d4a-82ca-cc6d8a9696d4   \n",
       "\n",
       "                               image_id            dataset data_type  ...  \\\n",
       "0  D1618D4F-E1B7-419C-80A6-8E85FB61B9F6  nz-trailcams-test       RGB  ...   \n",
       "1  0D68ED90-ADBD-4DD2-92F1-5E0E3084FF39  nz-trailcams-test       RGB  ...   \n",
       "\n",
       "  detector_algorithm image_signature  \\\n",
       "0          MDv5a.0.0            None   \n",
       "1          MDv5a.0.0            None   \n",
       "\n",
       "                                          cloud_path loc_index location_id  \n",
       "0  ACC/banded_rail/D1618D4F-E1B7-419C-80A6-8E85FB...      None     ACC_T19  \n",
       "1  ACC/banded_rail/0D68ED90-ADBD-4DD2-92F1-5E0E30...      None     ACC_T25  \n",
       "\n",
       "[2 rows x 43 columns]"
      ],
      "text/html": [
       "<div>\n",
       "<style scoped>\n",
       "    .dataframe tbody tr th:only-of-type {\n",
       "        vertical-align: middle;\n",
       "    }\n",
       "\n",
       "    .dataframe tbody tr th {\n",
       "        vertical-align: top;\n",
       "    }\n",
       "\n",
       "    .dataframe thead th {\n",
       "        text-align: right;\n",
       "    }\n",
       "</style>\n",
       "<table border=\"1\" class=\"dataframe\">\n",
       "  <thead>\n",
       "    <tr style=\"text-align: right;\">\n",
       "      <th></th>\n",
       "      <th>index</th>\n",
       "      <th>bb_id</th>\n",
       "      <th>image_id</th>\n",
       "      <th>dataset</th>\n",
       "      <th>data_type</th>\n",
       "      <th>...</th>\n",
       "      <th>detector_algorithm</th>\n",
       "      <th>image_signature</th>\n",
       "      <th>cloud_path</th>\n",
       "      <th>loc_index</th>\n",
       "      <th>location_id</th>\n",
       "    </tr>\n",
       "  </thead>\n",
       "  <tbody>\n",
       "    <tr>\n",
       "      <th>0</th>\n",
       "      <td>None</td>\n",
       "      <td>21a6ea01-abf4-4dda-bf68-5db776268872</td>\n",
       "      <td>D1618D4F-E1B7-419C-80A6-8E85FB61B9F6</td>\n",
       "      <td>nz-trailcams-test</td>\n",
       "      <td>RGB</td>\n",
       "      <td>...</td>\n",
       "      <td>MDv5a.0.0</td>\n",
       "      <td>None</td>\n",
       "      <td>ACC/banded_rail/D1618D4F-E1B7-419C-80A6-8E85FB...</td>\n",
       "      <td>None</td>\n",
       "      <td>ACC_T19</td>\n",
       "    </tr>\n",
       "    <tr>\n",
       "      <th>1</th>\n",
       "      <td>None</td>\n",
       "      <td>9a0cd58f-64bc-4d4a-82ca-cc6d8a9696d4</td>\n",
       "      <td>0D68ED90-ADBD-4DD2-92F1-5E0E3084FF39</td>\n",
       "      <td>nz-trailcams-test</td>\n",
       "      <td>RGB</td>\n",
       "      <td>...</td>\n",
       "      <td>MDv5a.0.0</td>\n",
       "      <td>None</td>\n",
       "      <td>ACC/banded_rail/0D68ED90-ADBD-4DD2-92F1-5E0E30...</td>\n",
       "      <td>None</td>\n",
       "      <td>ACC_T25</td>\n",
       "    </tr>\n",
       "  </tbody>\n",
       "</table>\n",
       "<p>2 rows × 43 columns</p>\n",
       "</div>"
      ]
     },
     "metadata": {},
     "execution_count": 29
    }
   ],
   "metadata": {}
  }
 ],
 "metadata": {
  "orig_nbformat": 4,
  "language_info": {
   "name": "python",
   "version": "3.11.9",
   "mimetype": "text/x-python",
   "codemirror_mode": {
    "name": "ipython",
    "version": 3
   },
   "pygments_lexer": "ipython3",
   "nbconvert_exporter": "python",
   "file_extension": ".py"
  },
  "kernelspec": {
   "name": "python3",
   "display_name": "Python 3.11.9 64-bit ('megadetector': conda)"
  },
  "interpreter": {
   "hash": "37e97609861194f3846f147cecf47c547a248e60dbda7654758428b266b5a777"
  }
 },
 "nbformat": 4,
 "nbformat_minor": 2
}