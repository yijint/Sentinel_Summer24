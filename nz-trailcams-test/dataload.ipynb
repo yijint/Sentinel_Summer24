{
 "cells": [
  {
   "cell_type": "markdown",
   "source": [
    "# NZ trailcams subset to Sentinel SQL\n",
    "This notebook converts a LILA COCO dataset (a subset of NZ trailcams) to Sentinel SQL format. This notebook consists of three parts:\n",
    "1. Loading data \n",
    "2. Species mapping\n",
    "3. Uploading data \n",
    "\n",
    "The following environment is used to run this notebook:\n",
    "```\n",
    "conda create -n database python=3.11 pip -y\n",
    "conda activate database\n",
    "pip install pandas\n",
    "pip install tqdm\n",
    "pip install pyarrow\n",
    "pip install SQLAlchemy\n",
    "pip install --upgrade google-cloud-storage \n",
    "```"
   ],
   "metadata": {}
  },
  {
   "cell_type": "markdown",
   "source": [
    "# 0. Set up"
   ],
   "metadata": {}
  },
  {
   "cell_type": "code",
   "execution_count": 1,
   "source": [
    "# import packages\n",
    "import json\n",
    "import pandas as pd\n",
    "from tqdm import tqdm\n",
    "import uuid\n",
    "import glob"
   ],
   "outputs": [],
   "metadata": {}
  },
  {
   "cell_type": "code",
   "execution_count": 2,
   "source": [
    "# set paths and variables \n",
    "workdir = os.getcwd() # where this notebook and the original data lies, and where all the work will be done\n",
    "og_datapath = f\"{workdir}/data\" # where the original data is (just a subset of the NZ trailcam dataset for testing)\n",
    "metadata_path = f'{og_datapath}/trail_camera_images_of_new_zealand_animals_1.00.json' # metadata (for ALL data in the NZ trailcam dataset)\n",
    "datapath = f\"{workdir}/downsized_data\"\n",
    "dataload_path = f\"{workdir}/dataload\""
   ],
   "outputs": [],
   "metadata": {}
  },
  {
   "cell_type": "markdown",
   "source": [
    "# 1. Loading data"
   ],
   "metadata": {}
  },
  {
   "cell_type": "code",
   "execution_count": 3,
   "source": [
    "# load megadetector output (RDE filtered)\n",
    "md_file =  f'{workdir}/postprocessing/nz-trailcams-aac-aiv/nz-trailcams-aac-aiv-2024-jun-07-v5a.0.0/combined_api_outputs/nz-trailcams-aac-aiv-2024-jun-07-v5a.0.0_detections.filtered_rde_0.100_0.850_15_0.200.json'\n",
    "with open(md_file, 'r') as f:\n",
    "    md_data = json.load(f)\n",
    "    print(f\"md_data.keys(): {md_data.keys()}\")\n",
    "\n",
    "# extract the bbox detections for each image and convert them into our database format \n",
    "images_df = pd.DataFrame(md_data['images'])\n",
    "fn, xmin, ymin, xmax, ymax, label, confidence = [], [], [], [], [], [], []\n",
    "\n",
    "# set up progress bar counter\n",
    "pbar = tqdm(total=len(images_df))\n",
    "for i in range(len(images_df)):\n",
    "    detections = images_df['detections'][i]\n",
    "    try:\n",
    "        for detection in detections:\n",
    "            fn.append(images_df['file'][i])\n",
    "            label.append(detection['category'])\n",
    "            if detection['bbox'] is None:\n",
    "                xmin.append(None)\n",
    "                ymin.append(None)\n",
    "                xmax.append(None)\n",
    "                ymax.append(None)\n",
    "                confidence.append(None)\n",
    "            else:\n",
    "                xmin.append(detection['bbox'][0])\n",
    "                ymin.append(detection['bbox'][1])\n",
    "                xmax.append(detection['bbox'][0]+detection['bbox'][2])\n",
    "                ymax.append(detection['bbox'][1]+detection['bbox'][3])\n",
    "                confidence.append(detection['conf'])  \n",
    "    except Exception as e:\n",
    "        print(e)\n",
    "\n",
    "    pbar.update(1)\n",
    "\n",
    "pbar.close()\n",
    "\n",
    "md_df = pd.DataFrame({'filename': fn, 'voc_xmin': xmin, 'voc_ymin': ymin, 'voc_xmax': xmax, 'voc_ymax': ymax, 'label': label, 'confidence': confidence})\n",
    "md_df['filename'] = md_df['filename'].str.replace('\\\\', '/')\n",
    "md_df['image_id'] = md_df['filename'].str.split('/').str[-1].str.split('.').str[0]\n",
    "\n",
    "# generate unique id for each bbox detection\n",
    "%time uuid = [str(uuid.uuid4()) for i in range(len(md_df))] \n",
    "md_df['bb_id'] = uuid\n",
    "\n",
    "del images_df\n",
    "del fn, xmin, ymin, xmax, ymax, label, confidence"
   ],
   "outputs": [
    {
     "output_type": "stream",
     "name": "stdout",
     "text": [
      "md_data.keys(): dict_keys(['info', 'detection_categories', 'images'])\n"
     ]
    },
    {
     "output_type": "stream",
     "name": "stderr",
     "text": [
      "100%|██████████| 38/38 [00:00<00:00, 32461.01it/s]"
     ]
    },
    {
     "output_type": "stream",
     "name": "stdout",
     "text": [
      "CPU times: user 327 μs, sys: 469 μs, total: 796 μs\n",
      "Wall time: 702 μs\n"
     ]
    },
    {
     "output_type": "stream",
     "name": "stderr",
     "text": [
      "\n"
     ]
    }
   ],
   "metadata": {}
  },
  {
   "cell_type": "code",
   "execution_count": 4,
   "source": [
    "# check extracted annotations\n",
    "md_df.head(2)"
   ],
   "outputs": [
    {
     "output_type": "execute_result",
     "data": {
      "text/plain": [
       "                                            filename  voc_xmin  voc_ymin  \\\n",
       "0  ACC/banded_rail/0067A52A-FB22-4CB4-B54A-1894E7...     0.000     0.084   \n",
       "1  ACC/banded_rail/0067A52A-FB22-4CB4-B54A-1894E7...     0.742     0.318   \n",
       "\n",
       "   voc_xmax  voc_ymax label  confidence                              image_id  \\\n",
       "0     0.052     0.248     1       0.015  0067A52A-FB22-4CB4-B54A-1894E7F2B1A5   \n",
       "1     0.966     0.569     1       0.851  0067A52A-FB22-4CB4-B54A-1894E7F2B1A5   \n",
       "\n",
       "                                  bb_id  \n",
       "0  6968b1eb-b871-4818-af4d-493357124534  \n",
       "1  bcf5388a-d366-436f-83c6-0be380cdfb9c  "
      ],
      "text/html": [
       "<div>\n",
       "<style scoped>\n",
       "    .dataframe tbody tr th:only-of-type {\n",
       "        vertical-align: middle;\n",
       "    }\n",
       "\n",
       "    .dataframe tbody tr th {\n",
       "        vertical-align: top;\n",
       "    }\n",
       "\n",
       "    .dataframe thead th {\n",
       "        text-align: right;\n",
       "    }\n",
       "</style>\n",
       "<table border=\"1\" class=\"dataframe\">\n",
       "  <thead>\n",
       "    <tr style=\"text-align: right;\">\n",
       "      <th></th>\n",
       "      <th>filename</th>\n",
       "      <th>voc_xmin</th>\n",
       "      <th>voc_ymin</th>\n",
       "      <th>voc_xmax</th>\n",
       "      <th>voc_ymax</th>\n",
       "      <th>label</th>\n",
       "      <th>confidence</th>\n",
       "      <th>image_id</th>\n",
       "      <th>bb_id</th>\n",
       "    </tr>\n",
       "  </thead>\n",
       "  <tbody>\n",
       "    <tr>\n",
       "      <th>0</th>\n",
       "      <td>ACC/banded_rail/0067A52A-FB22-4CB4-B54A-1894E7...</td>\n",
       "      <td>0.000</td>\n",
       "      <td>0.084</td>\n",
       "      <td>0.052</td>\n",
       "      <td>0.248</td>\n",
       "      <td>1</td>\n",
       "      <td>0.015</td>\n",
       "      <td>0067A52A-FB22-4CB4-B54A-1894E7F2B1A5</td>\n",
       "      <td>6968b1eb-b871-4818-af4d-493357124534</td>\n",
       "    </tr>\n",
       "    <tr>\n",
       "      <th>1</th>\n",
       "      <td>ACC/banded_rail/0067A52A-FB22-4CB4-B54A-1894E7...</td>\n",
       "      <td>0.742</td>\n",
       "      <td>0.318</td>\n",
       "      <td>0.966</td>\n",
       "      <td>0.569</td>\n",
       "      <td>1</td>\n",
       "      <td>0.851</td>\n",
       "      <td>0067A52A-FB22-4CB4-B54A-1894E7F2B1A5</td>\n",
       "      <td>bcf5388a-d366-436f-83c6-0be380cdfb9c</td>\n",
       "    </tr>\n",
       "  </tbody>\n",
       "</table>\n",
       "</div>"
      ]
     },
     "metadata": {},
     "execution_count": 4
    }
   ],
   "metadata": {}
  },
  {
   "cell_type": "code",
   "execution_count": 5,
   "source": [
    "print(f\"There are {len(set(md_df['image_id']))} unique images and {len((md_df['image_id']))} bounding boxes detected.\")"
   ],
   "outputs": [
    {
     "output_type": "stream",
     "name": "stdout",
     "text": [
      "There are 38 unique images and 42 bounding boxes detected.\n"
     ]
    }
   ],
   "metadata": {}
  },
  {
   "cell_type": "code",
   "execution_count": 6,
   "source": [
    "# load metadata \n",
    "with open(metadata_path, 'r') as f:\n",
    "    metadata = json.load(f)\n",
    "    print(f\"metadata.keys(): {metadata.keys()}\")\n",
    "\n",
    "# retrieve and combine metadata about annotations and categories \n",
    "metadata_df = pd.merge(pd.DataFrame(metadata['annotations']), \n",
    "                    pd.DataFrame(metadata['categories']).rename(columns={'id': 'category_id'}), \n",
    "                    on='category_id')\n",
    "metadata_df = metadata_df[['image_id','name']]\n",
    "\n",
    "# convert the format of the image_id in metadata to match that of megadetector's\n",
    "metadata_df['image_id'] = [os.path.basename(fn).split('.')[0] for fn in metadata_df['image_id']] \n",
    "\n",
    "# only include the metadata relevant to this data subset \n",
    "%time include_data = [True if image_id in list(md_df['image_id']) else False for image_id in metadata_df['image_id']]\n",
    "metadata_df = metadata_df[include_data]"
   ],
   "outputs": [
    {
     "output_type": "stream",
     "name": "stdout",
     "text": [
      "metadata.keys(): dict_keys(['images', 'categories', 'info', 'annotations'])\n",
      "CPU times: user 13 s, sys: 2.58 ms, total: 13 s\n",
      "Wall time: 13 s\n"
     ]
    }
   ],
   "metadata": {}
  },
  {
   "cell_type": "code",
   "execution_count": 7,
   "source": [
    "# check unique common_name and their counts\n",
    "metadata_df['name'].value_counts()"
   ],
   "outputs": [
    {
     "output_type": "execute_result",
     "data": {
      "text/plain": [
       "name\n",
       "banded_rail    34\n",
       "morepork        4\n",
       "Name: count, dtype: int64"
      ]
     },
     "metadata": {},
     "execution_count": 7
    }
   ],
   "metadata": {}
  },
  {
   "cell_type": "code",
   "execution_count": 8,
   "source": [
    "# combine and check relevant data from megadetector output and metadata \n",
    "df = pd.merge(md_df, metadata_df, on='image_id', how='outer')\n",
    "df.head(2)"
   ],
   "outputs": [
    {
     "output_type": "execute_result",
     "data": {
      "text/plain": [
       "                                            filename  voc_xmin  voc_ymin  \\\n",
       "0  ACC/banded_rail/0067A52A-FB22-4CB4-B54A-1894E7...     0.000     0.084   \n",
       "1  ACC/banded_rail/0067A52A-FB22-4CB4-B54A-1894E7...     0.742     0.318   \n",
       "\n",
       "   voc_xmax  voc_ymax label  confidence                              image_id  \\\n",
       "0     0.052     0.248     1       0.015  0067A52A-FB22-4CB4-B54A-1894E7F2B1A5   \n",
       "1     0.966     0.569     1       0.851  0067A52A-FB22-4CB4-B54A-1894E7F2B1A5   \n",
       "\n",
       "                                  bb_id         name  \n",
       "0  6968b1eb-b871-4818-af4d-493357124534  banded_rail  \n",
       "1  bcf5388a-d366-436f-83c6-0be380cdfb9c  banded_rail  "
      ],
      "text/html": [
       "<div>\n",
       "<style scoped>\n",
       "    .dataframe tbody tr th:only-of-type {\n",
       "        vertical-align: middle;\n",
       "    }\n",
       "\n",
       "    .dataframe tbody tr th {\n",
       "        vertical-align: top;\n",
       "    }\n",
       "\n",
       "    .dataframe thead th {\n",
       "        text-align: right;\n",
       "    }\n",
       "</style>\n",
       "<table border=\"1\" class=\"dataframe\">\n",
       "  <thead>\n",
       "    <tr style=\"text-align: right;\">\n",
       "      <th></th>\n",
       "      <th>filename</th>\n",
       "      <th>voc_xmin</th>\n",
       "      <th>voc_ymin</th>\n",
       "      <th>voc_xmax</th>\n",
       "      <th>voc_ymax</th>\n",
       "      <th>label</th>\n",
       "      <th>confidence</th>\n",
       "      <th>image_id</th>\n",
       "      <th>bb_id</th>\n",
       "      <th>name</th>\n",
       "    </tr>\n",
       "  </thead>\n",
       "  <tbody>\n",
       "    <tr>\n",
       "      <th>0</th>\n",
       "      <td>ACC/banded_rail/0067A52A-FB22-4CB4-B54A-1894E7...</td>\n",
       "      <td>0.000</td>\n",
       "      <td>0.084</td>\n",
       "      <td>0.052</td>\n",
       "      <td>0.248</td>\n",
       "      <td>1</td>\n",
       "      <td>0.015</td>\n",
       "      <td>0067A52A-FB22-4CB4-B54A-1894E7F2B1A5</td>\n",
       "      <td>6968b1eb-b871-4818-af4d-493357124534</td>\n",
       "      <td>banded_rail</td>\n",
       "    </tr>\n",
       "    <tr>\n",
       "      <th>1</th>\n",
       "      <td>ACC/banded_rail/0067A52A-FB22-4CB4-B54A-1894E7...</td>\n",
       "      <td>0.742</td>\n",
       "      <td>0.318</td>\n",
       "      <td>0.966</td>\n",
       "      <td>0.569</td>\n",
       "      <td>1</td>\n",
       "      <td>0.851</td>\n",
       "      <td>0067A52A-FB22-4CB4-B54A-1894E7F2B1A5</td>\n",
       "      <td>bcf5388a-d366-436f-83c6-0be380cdfb9c</td>\n",
       "      <td>banded_rail</td>\n",
       "    </tr>\n",
       "  </tbody>\n",
       "</table>\n",
       "</div>"
      ]
     },
     "metadata": {},
     "execution_count": 8
    }
   ],
   "metadata": {}
  },
  {
   "cell_type": "code",
   "execution_count": 9,
   "source": [
    "# save loaded data to file\n",
    "if not os.path.exists(dataload_path):\n",
    "    os.mkdir(dataload_path)\n",
    "\n",
    "df.to_feather(f'{dataload_path}/nz-trailcams-test.feather')"
   ],
   "outputs": [],
   "metadata": {}
  },
  {
   "cell_type": "markdown",
   "source": [
    "# 2. Species mapping"
   ],
   "metadata": {}
  },
  {
   "cell_type": "code",
   "execution_count": 10,
   "source": [
    "# load data \n",
    "df = pd.read_feather(f'{dataload_path}/nz-trailcams-test.feather')\n",
    "taxa_df = pd.read_csv(f'{og_datapath}/lila-taxonomy-mapping_release.csv')\n",
    "\n",
    "# extract relevant data \n",
    "# set(taxa_df.dataset_name) # run this to check for dataset name \n",
    "taxa_df = taxa_df[taxa_df['dataset_name'] ==  'Trail Camera Images of New Zealand Animals']\n",
    "taxa_df = taxa_df[['taxonomy_level','query','kingdom','phylum','class','order','family','genus','species','subspecies']]\n",
    "taxa_df.rename(columns={'query':'name'}, inplace=True)\n",
    "\n",
    "# only keep taxa info for species included in our dataset \n",
    "%time include_data = [True if name in set(df['name']) else False for name in taxa_df['name']]\n",
    "taxa_df = taxa_df[include_data]"
   ],
   "outputs": [
    {
     "output_type": "stream",
     "name": "stdout",
     "text": [
      "CPU times: user 5.82 ms, sys: 0 ns, total: 5.82 ms\n",
      "Wall time: 5.87 ms\n"
     ]
    }
   ],
   "metadata": {}
  },
  {
   "cell_type": "code",
   "execution_count": 11,
   "source": [
    "# merge taxa info and save to file \n",
    "df = pd.merge(df, taxa_df, on='name', how='outer')\n",
    "df.reset_index(drop=True, inplace=True)\n",
    "df.to_feather(f'{dataload_path}/nz-trailcams-test_taxa.feather')"
   ],
   "outputs": [],
   "metadata": {}
  },
  {
   "cell_type": "markdown",
   "source": [
    "# 3. Uploading data"
   ],
   "metadata": {}
  },
  {
   "cell_type": "code",
   "execution_count": null,
   "source": [],
   "outputs": [],
   "metadata": {}
  }
 ],
 "metadata": {
  "environment": {
   "name": "tf2-gpu.2-4.m61",
   "type": "gcloud",
   "uri": "gcr.io/deeplearning-platform-release/tf2-gpu.2-4:m61"
  },
  "kernelspec": {
   "name": "python3",
   "display_name": "Python 3.11.9 64-bit"
  },
  "language_info": {
   "codemirror_mode": {
    "name": "ipython",
    "version": 3
   },
   "file_extension": ".py",
   "mimetype": "text/x-python",
   "name": "python",
   "nbconvert_exporter": "python",
   "pygments_lexer": "ipython3",
   "version": "3.11.9"
  },
  "interpreter": {
   "hash": "72ce3f0cd735bdf93b81734415c95dc780b80f1c263f0118248c4cba6602b466"
  }
 },
 "nbformat": 4,
 "nbformat_minor": 4
}